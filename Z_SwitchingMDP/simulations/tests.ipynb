{
 "cells": [
  {
   "cell_type": "code",
   "execution_count": 1,
   "id": "initial_id",
   "metadata": {
    "collapsed": true,
    "ExecuteTime": {
     "end_time": "2024-01-04T15:49:57.836923993Z",
     "start_time": "2024-01-04T15:49:57.679612101Z"
    }
   },
   "outputs": [],
   "source": [
    "import numpy as np"
   ]
  },
  {
   "cell_type": "code",
   "outputs": [
    {
     "name": "stdout",
     "output_type": "stream",
     "text": [
      "[[0.99995 0.      0.      0.      0.     ]\n",
      " [0.      0.99995 0.      0.      0.     ]\n",
      " [0.      0.      0.99995 0.      0.     ]\n",
      " [0.      0.      0.      0.99995 0.     ]\n",
      " [0.      0.      0.      0.      0.99995]]\n",
      "[[1.e-05 1.e-05 1.e-05 1.e-05 1.e-05]\n",
      " [1.e-05 1.e-05 1.e-05 1.e-05 1.e-05]\n",
      " [1.e-05 1.e-05 1.e-05 1.e-05 1.e-05]\n",
      " [1.e-05 1.e-05 1.e-05 1.e-05 1.e-05]\n",
      " [1.e-05 1.e-05 1.e-05 1.e-05 1.e-05]]\n",
      "[[9.9996e-01 1.0000e-05 1.0000e-05 1.0000e-05 1.0000e-05]\n",
      " [1.0000e-05 9.9996e-01 1.0000e-05 1.0000e-05 1.0000e-05]\n",
      " [1.0000e-05 1.0000e-05 9.9996e-01 1.0000e-05 1.0000e-05]\n",
      " [1.0000e-05 1.0000e-05 1.0000e-05 9.9996e-01 1.0000e-05]\n",
      " [1.0000e-05 1.0000e-05 1.0000e-05 1.0000e-05 9.9996e-01]]\n"
     ]
    }
   ],
   "source": [
    "dimension = 5\n",
    "eps = 10**(-5)\n",
    "b = np.zeros((dimension, dimension)) + eps\n",
    "# print(test_matrix)\n",
    "\n",
    "a = np.eye(dimension) * (1 - dimension * eps)\n",
    "\n",
    "transition_matrix = a + b\n",
    "print(a)\n",
    "print(b)\n",
    "print(transition_matrix)"
   ],
   "metadata": {
    "collapsed": false,
    "ExecuteTime": {
     "end_time": "2024-01-04T16:00:06.277483215Z",
     "start_time": "2024-01-04T16:00:06.260333791Z"
    }
   },
   "id": "2bc577bdc96455b9",
   "execution_count": 18
  },
  {
   "cell_type": "code",
   "outputs": [],
   "source": [
    "evals_a, _ = np.linalg.eig(a)\n",
    "evals_a = evals_a.real\n",
    "evals_a[np.isclose(evals_a, 0)] = 0"
   ],
   "metadata": {
    "collapsed": false,
    "ExecuteTime": {
     "end_time": "2024-01-04T16:01:50.971460964Z",
     "start_time": "2024-01-04T16:01:50.967016361Z"
    }
   },
   "id": "422372d60e0900ee",
   "execution_count": 28
  },
  {
   "cell_type": "code",
   "outputs": [],
   "source": [
    "evals_b, _ = np.linalg.eig(b)\n",
    "evals_b = evals_b.real\n",
    "evals_b[np.isclose(evals_b, 0)] = 0\n",
    "#print(evals_b)"
   ],
   "metadata": {
    "collapsed": false,
    "ExecuteTime": {
     "end_time": "2024-01-04T16:01:51.393776185Z",
     "start_time": "2024-01-04T16:01:51.375738962Z"
    }
   },
   "id": "765e52dfbe87224a",
   "execution_count": 29
  },
  {
   "cell_type": "code",
   "outputs": [],
   "source": [
    "evals_t, _ = np.linalg.eig(transition_matrix)\n",
    "evals_t = evals_t.real\n",
    "evals_t[np.isclose(evals_t, 0)] = 0\n",
    "#print(evals_t)\n",
    "#evals[np.isclose(evals, 1)] = -1\n",
    "#return max(evals)"
   ],
   "metadata": {
    "collapsed": false,
    "ExecuteTime": {
     "end_time": "2024-01-04T16:01:51.765521273Z",
     "start_time": "2024-01-04T16:01:51.760619481Z"
    }
   },
   "id": "5dd6516e5e2c1588",
   "execution_count": 30
  },
  {
   "cell_type": "code",
   "outputs": [
    {
     "name": "stdout",
     "output_type": "stream",
     "text": [
      "[0.99995 0.99995 0.99995 0.99995 0.99995]\n",
      "[5.e-05 0.e+00 0.e+00 0.e+00 0.e+00]\n",
      "[0.99995 1.      0.99995 0.99995 0.99995]\n",
      "<class 'numpy.ndarray'>\n"
     ]
    }
   ],
   "source": [
    "print(evals_a)\n",
    "print(evals_b)\n",
    "print(evals_t)\n",
    "print(type(evals_a))"
   ],
   "metadata": {
    "collapsed": false,
    "ExecuteTime": {
     "end_time": "2024-01-04T16:02:14.081035763Z",
     "start_time": "2024-01-04T16:02:14.075754740Z"
    }
   },
   "id": "4e4c5554690a532f",
   "execution_count": 32
  },
  {
   "cell_type": "code",
   "outputs": [],
   "source": [],
   "metadata": {
    "collapsed": false
   },
   "id": "5d20c609f69c777c"
  },
  {
   "cell_type": "code",
   "outputs": [],
   "source": [],
   "metadata": {
    "collapsed": false
   },
   "id": "f2da8ae2752e2b42"
  },
  {
   "cell_type": "code",
   "outputs": [],
   "source": [],
   "metadata": {
    "collapsed": false
   },
   "id": "f4b7e2d0127aa260"
  }
 ],
 "metadata": {
  "kernelspec": {
   "display_name": "Python 3",
   "language": "python",
   "name": "python3"
  },
  "language_info": {
   "codemirror_mode": {
    "name": "ipython",
    "version": 2
   },
   "file_extension": ".py",
   "mimetype": "text/x-python",
   "name": "python",
   "nbconvert_exporter": "python",
   "pygments_lexer": "ipython2",
   "version": "2.7.6"
  }
 },
 "nbformat": 4,
 "nbformat_minor": 5
}
