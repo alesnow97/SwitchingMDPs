{
 "cells": [
  {
   "cell_type": "code",
   "execution_count": 1,
   "outputs": [],
   "source": [
    "import json\n",
    "import numpy as np\n",
    "import os"
   ],
   "metadata": {
    "collapsed": false,
    "ExecuteTime": {
     "end_time": "2023-05-29T09:13:31.848794925Z",
     "start_time": "2023-05-29T09:13:31.740685486Z"
    }
   }
  },
  {
   "cell_type": "code",
   "execution_count": 2,
   "outputs": [],
   "source": [
    "os.chdir(\"/home/alessio/Scrivania/SwitchingBandits\")"
   ],
   "metadata": {
    "collapsed": false,
    "ExecuteTime": {
     "end_time": "2023-05-29T09:13:34.145680074Z",
     "start_time": "2023-05-29T09:13:34.142234541Z"
    }
   }
  },
  {
   "cell_type": "markdown",
   "source": [
    "# Both"
   ],
   "metadata": {
    "collapsed": false
   }
  },
  {
   "cell_type": "code",
   "execution_count": 6,
   "outputs": [
    {
     "name": "stdout",
     "output_type": "stream",
     "text": [
      "0.006302935847129459\n",
      "0.003553349244797971\n",
      "0.0030070394549678026\n",
      "0.00853284804437103\n",
      "0.0035223621902714733\n",
      "0.001304711739543045\n",
      "0.1580062840358269\n",
      "0.19240750563932635\n",
      "0.11418036768795131\n",
      "0.5869927488049526\n",
      "0.593176280833599\n",
      "0.600040562284182\n",
      "0.45942413065244125\n",
      "0.7807802430945154\n",
      "0.708485455569585\n",
      "0.2685477470308985\n",
      "0.27816116712671696\n",
      "0.2519418559098839\n",
      "1.0115329185372561\n",
      "1.0070716296588853\n",
      "1.0027608830358934\n",
      "0.025472078397249187\n",
      "0.015012032792897166\n",
      "0.00543752611505717\n",
      "0.3133363494456619\n",
      "0.3282835705270245\n",
      "0.3240788045826617\n",
      "0.06259666483287185\n",
      "0.07143278725995911\n",
      "0.06620563072569613\n",
      "[[0.00630294 0.00355335 0.00300704]\n",
      " [0.00853285 0.00352236 0.00130471]\n",
      " [0.15800628 0.19240751 0.11418037]\n",
      " [0.58699275 0.59317628 0.60004056]\n",
      " [0.45942413 0.78078024 0.70848546]\n",
      " [0.26854775 0.27816117 0.25194186]\n",
      " [1.01153292 1.00707163 1.00276088]\n",
      " [0.02547208 0.01501203 0.00543753]\n",
      " [0.31333635 0.32828357 0.3240788 ]\n",
      " [0.06259666 0.07143279 0.06620563]]\n",
      "[[0.00663849 0.00720496 0.00173068]\n",
      " [0.06610491 0.04932302 0.02875575]\n",
      " [0.0176319  0.01795347 0.01188094]\n",
      " [0.03957308 0.03679445 0.02856277]\n",
      " [0.04787126 0.05602281 0.04209609]\n",
      " [0.02350888 0.00520024 0.00592225]\n",
      " [0.01529617 0.0204377  0.02015718]\n",
      " [0.04850596 0.00294009 0.01648954]\n",
      " [0.03261482 0.00335593 0.01325641]\n",
      " [0.02178807 0.0295151  0.02995813]]\n",
      "[[0.00259278 0.00174878 0.00187565]\n",
      " [0.00282453 0.00171685 0.00134022]\n",
      " [0.10952008 0.07420287 0.10516568]\n",
      " [0.00288929 0.00231422 0.00197769]\n",
      " [0.2405566  0.2025511  0.18923657]\n",
      " [0.01351    0.00972762 0.01884471]\n",
      " [0.00418611 0.00264165 0.00138782]\n",
      " [0.01783089 0.0144194  0.01400801]\n",
      " [0.00575713 0.00522216 0.00593683]\n",
      " [0.00627232 0.00536113 0.00210197]]\n"
     ]
    }
   ],
   "source": [
    "paths_to_read_from = ['/experiments_estimation_error_rebuttal/2states_20actions_5obs__1_10']\n",
    "bandit_num = 10\n",
    "\n",
    "hmm_errors = np.empty((bandit_num, 3))\n",
    "obs_errors = np.empty((bandit_num, 3))\n",
    "our_errors = np.empty((bandit_num, 3))\n",
    "estimated_obs = None\n",
    "for i, path in enumerate(paths_to_read_from):\n",
    "\n",
    "    curr_path = os.getcwd() + path\n",
    "    for bandit in range(bandit_num):\n",
    "        # Opening HMM files\n",
    "        f = open(curr_path + f'/bandit{bandit}/exp_hmm_1/exp_info.json')\n",
    "        # returns JSON object as\n",
    "        # a dictionary\n",
    "        data = json.load(f)\n",
    "\n",
    "        num_samples_hmm = []\n",
    "        obs_errors_hmm = []\n",
    "        count = 0\n",
    "        for exp in data:\n",
    "            num_samples_hmm.append(exp['num_samples'])\n",
    "            print(exp['norm_1_t_error'])\n",
    "            hmm_errors[bandit, count] = exp['norm_1_t_error']\n",
    "            # obs_errors[bandit, count] = exp['norm_1_o_error_norm']\n",
    "            obs_errors[bandit, count] = exp['norm_1_o_error'] / (2 * 20)\n",
    "            # if count == 0:\n",
    "            #     print(\"holaa\")\n",
    "            #     estimated_obs = np.array(exp['O_hat']).reshape((100, 5))\n",
    "            #     obs_permutation = exp['min_o_permutation']\n",
    "            count += 1\n",
    "        f.close()\n",
    "\n",
    "        # Opening SR-EC files\n",
    "        f = open(curr_path + f'/bandit{bandit}/exp2/exp_our_info.json')\n",
    "        data = json.load(f)\n",
    "        our_errors[bandit, :] = data['estimation_errors']\n",
    "        f.close()\n",
    "\n",
    "print(hmm_errors)\n",
    "#print(obs_errors)\n",
    "print(our_errors)\n",
    "print(obs_errors)"
   ],
   "metadata": {
    "collapsed": false,
    "ExecuteTime": {
     "end_time": "2023-05-29T09:17:12.684468294Z",
     "start_time": "2023-05-29T09:17:12.641198707Z"
    }
   }
  },
  {
   "cell_type": "code",
   "execution_count": 7,
   "outputs": [
    {
     "name": "stdout",
     "output_type": "stream",
     "text": [
      "Hmm mean error [0.29007447 0.32734009 0.30774428] +- [0.30616027 0.33640321 0.33262993]\n",
      "Our mean error [0.03195335 0.02287478 0.01988097] +- [0.01746495 0.01844619 0.01180228]\n",
      "Obs mean error [0.04059397 0.03199058 0.03418751] +- [0.07348261 0.06056066 0.05982023]\n"
     ]
    }
   ],
   "source": [
    "norm_hmm_errors = hmm_errors\n",
    "hmm_mean_error = norm_hmm_errors.mean(axis=0)\n",
    "hmm_std_error = norm_hmm_errors.std(axis=0)\n",
    "\n",
    "norm_our_errors = our_errors\n",
    "our_mean_error = norm_our_errors.mean(axis=0)\n",
    "our_std_error = norm_our_errors.std(axis=0)\n",
    "\n",
    "norm_obs_errors = obs_errors\n",
    "obs_mean_error = norm_obs_errors.mean(axis=0)\n",
    "obs_std_error = norm_obs_errors.std(axis=0)\n",
    "\n",
    "print(f\"Hmm mean error {hmm_mean_error} +- {hmm_std_error}\")\n",
    "print(f\"Our mean error {our_mean_error} +- {our_std_error}\")\n",
    "print(f\"Obs mean error {obs_mean_error} +- {obs_std_error}\")"
   ],
   "metadata": {
    "collapsed": false,
    "ExecuteTime": {
     "end_time": "2023-05-29T09:17:14.561906762Z",
     "start_time": "2023-05-29T09:17:14.546599497Z"
    }
   }
  },
  {
   "cell_type": "code",
   "execution_count": 6,
   "outputs": [
    {
     "name": "stdout",
     "output_type": "stream",
     "text": [
      "[3, 4, 1, 0, 2]\n"
     ]
    },
    {
     "data": {
      "text/plain": "0.010767627752149367"
     },
     "execution_count": 6,
     "metadata": {},
     "output_type": "execute_result"
    }
   ],
   "source": [
    "print(obs_permutation)\n",
    "np.sum(np.abs(estimated_obs[5:10, 3] - [0.0250374452194932, 0.8913456334386701, 0.02857625013543176, 0.013085643411875065, 0.04195502779452992]))"
   ],
   "metadata": {
    "collapsed": false,
    "ExecuteTime": {
     "start_time": "2023-04-16T23:20:41.379649Z",
     "end_time": "2023-04-16T23:20:41.439175Z"
    }
   }
  },
  {
   "cell_type": "markdown",
   "source": [
    "# Our Only"
   ],
   "metadata": {
    "collapsed": false
   }
  },
  {
   "cell_type": "code",
   "execution_count": 44,
   "outputs": [
    {
     "name": "stdout",
     "output_type": "stream",
     "text": [
      "[[0.51304482 0.44468857 0.31208196 0.27538788]\n",
      " [0.48182251 0.31879766 0.33943144 0.29150435]\n",
      " [0.4319683  0.31999612 0.27134166 0.23785887]\n",
      " [0.47520491 0.33426022 0.2820916  0.26604329]\n",
      " [0.58771741 0.54637964 0.42483581 0.33570064]\n",
      " [0.44891643 0.34568396 0.28038927 0.22410097]\n",
      " [0.54184398 0.3353438  0.32106545 0.27959311]\n",
      " [0.51194751 0.39545752 0.31905625 0.22983837]\n",
      " [0.65927171 0.46495174 0.38418694 0.29061575]\n",
      " [0.46345527 0.41675891 0.39178056 0.32776841]]\n"
     ]
    }
   ],
   "source": [
    "paths_to_read_from = ['/experiments_estimation_error_rebuttal/10states_20actions_5obs__20_10']\n",
    "bandit_num = 10\n",
    "\n",
    "our_errors = np.empty((bandit_num, 4))\n",
    "for i, path in enumerate(paths_to_read_from):\n",
    "\n",
    "    curr_path = os.getcwd() + path\n",
    "    for bandit in range(bandit_num):\n",
    "        # Opening SR-EC files\n",
    "        f = open(curr_path + f'/bandit{bandit}/exp1/exp_our_info.json')\n",
    "        data = json.load(f)\n",
    "        our_errors[bandit, :] = data['estimation_errors']\n",
    "        f.close()\n",
    "\n",
    "#print(obs_errors)\n",
    "print(our_errors)"
   ],
   "metadata": {
    "collapsed": false,
    "ExecuteTime": {
     "start_time": "2023-04-17T15:34:43.228561Z",
     "end_time": "2023-04-17T15:34:43.236790Z"
    }
   }
  },
  {
   "cell_type": "code",
   "execution_count": 45,
   "outputs": [
    {
     "name": "stdout",
     "output_type": "stream",
     "text": [
      "Our mean error [0.51151929 0.39223181 0.33262609 0.27584117] +- [0.06581587 0.07196364 0.04948209 0.03617936]\n"
     ]
    }
   ],
   "source": [
    "norm_our_errors = our_errors\n",
    "our_mean_error = norm_our_errors.mean(axis=0)\n",
    "our_std_error = norm_our_errors.std(axis=0)\n",
    "\n",
    "print(f\"Our mean error {our_mean_error} +- {our_std_error}\")"
   ],
   "metadata": {
    "collapsed": false,
    "ExecuteTime": {
     "start_time": "2023-04-17T15:34:46.702812Z",
     "end_time": "2023-04-17T15:34:46.712315Z"
    }
   }
  },
  {
   "cell_type": "code",
   "execution_count": null,
   "outputs": [],
   "source": [],
   "metadata": {
    "collapsed": false
   }
  },
  {
   "cell_type": "markdown",
   "source": [
    "# HMM Only"
   ],
   "metadata": {
    "collapsed": false
   }
  },
  {
   "cell_type": "code",
   "execution_count": 31,
   "outputs": [
    {
     "name": "stdout",
     "output_type": "stream",
     "text": [
      "0.006356355406525911\n",
      "0.4796639633444727\n",
      "[[0.00635636]\n",
      " [0.47966396]]\n",
      "[[0.00072649]\n",
      " [0.00119198]]\n"
     ]
    }
   ],
   "source": [
    "paths_to_read_from = ['/experiments_estimation_error_rebuttal/3states_20actions_5obs__20_100']\n",
    "bandit_num = 2\n",
    "\n",
    "hmm_errors = np.empty((bandit_num, 1))\n",
    "obs_errors = np.empty((bandit_num, 1))\n",
    "estimated_obs = None\n",
    "for i, path in enumerate(paths_to_read_from):\n",
    "\n",
    "    curr_path = os.getcwd() + path\n",
    "    for bandit in range(bandit_num):\n",
    "        # Opening HMM files\n",
    "        f = open(curr_path + f'/bandit{bandit}/exp_hmm_1/exp_info.json')\n",
    "        # returns JSON object as\n",
    "        # a dictionary\n",
    "        data = json.load(f)\n",
    "\n",
    "        num_samples_hmm = []\n",
    "        obs_errors_hmm = []\n",
    "        count = 0\n",
    "        for exp in data:\n",
    "            num_samples_hmm.append(exp['num_samples'])\n",
    "            print(exp['norm_1_t_error'])\n",
    "            hmm_errors[bandit, count] = exp['norm_1_t_error']\n",
    "            obs_errors[bandit, count] = exp['norm_1_o_error_norm']\n",
    "            # if count == 0:\n",
    "            #     print(\"holaa\")\n",
    "            #     estimated_obs = np.array(exp['O_hat']).reshape((100, 5))\n",
    "            #     obs_permutation = exp['min_o_permutation']\n",
    "            count += 1\n",
    "        f.close()\n",
    "\n",
    "print(hmm_errors)\n",
    "print(obs_errors)"
   ],
   "metadata": {
    "collapsed": false,
    "ExecuteTime": {
     "start_time": "2023-04-17T09:24:17.675460Z",
     "end_time": "2023-04-17T09:24:17.718812Z"
    }
   }
  },
  {
   "cell_type": "code",
   "execution_count": 32,
   "outputs": [
    {
     "name": "stdout",
     "output_type": "stream",
     "text": [
      "Hmm mean error [0.24301016] +- [0.2366538]\n",
      "Obs mean error [0.00095924] +- [0.00023274]\n"
     ]
    }
   ],
   "source": [
    "norm_hmm_errors = hmm_errors\n",
    "hmm_mean_error = norm_hmm_errors.mean(axis=0)\n",
    "hmm_std_error = norm_hmm_errors.std(axis=0)\n",
    "\n",
    "norm_obs_errors = obs_errors / 1\n",
    "obs_mean_error = norm_obs_errors.mean(axis=0)\n",
    "obs_std_error = norm_obs_errors.std(axis=0)\n",
    "\n",
    "print(f\"Hmm mean error {hmm_mean_error} +- {hmm_std_error}\")\n",
    "print(f\"Obs mean error {obs_mean_error} +- {obs_std_error}\")"
   ],
   "metadata": {
    "collapsed": false,
    "ExecuteTime": {
     "start_time": "2023-04-17T09:24:20.122486Z",
     "end_time": "2023-04-17T09:24:20.147335Z"
    }
   }
  },
  {
   "cell_type": "code",
   "execution_count": null,
   "outputs": [],
   "source": [],
   "metadata": {
    "collapsed": false
   }
  },
  {
   "cell_type": "code",
   "execution_count": null,
   "outputs": [],
   "source": [],
   "metadata": {
    "collapsed": false
   }
  },
  {
   "cell_type": "code",
   "execution_count": null,
   "outputs": [],
   "source": [],
   "metadata": {
    "collapsed": false
   }
  },
  {
   "cell_type": "code",
   "execution_count": null,
   "outputs": [],
   "source": [],
   "metadata": {
    "collapsed": false
   }
  },
  {
   "cell_type": "code",
   "execution_count": 20,
   "outputs": [
    {
     "name": "stdout",
     "output_type": "stream",
     "text": [
      "[[0.0207676  0.01902048 0.03499498 0.00567713]\n",
      " [0.07257192 0.06213325 0.03038464 0.02481243]\n",
      " [0.06023173 0.01400098 0.03289934 0.0331383 ]\n",
      " [0.02389968 0.01914838 0.014763   0.01607994]\n",
      " [0.1034865  0.04330953 0.02574391 0.01029062]\n",
      " [0.0531674  0.04582885 0.02538167 0.01458598]\n",
      " [0.09051625 0.02049844 0.0204286  0.0150483 ]\n",
      " [0.03636364 0.00976303 0.02696801 0.0048642 ]\n",
      " [0.08819861 0.04071087 0.02264237 0.01032285]\n",
      " [0.0339662  0.03859874 0.02887144 0.04840136]]\n",
      "[[0.08132263 0.00947868 0.00452923 0.00965838]\n",
      " [0.09214601 0.04659246 0.02082609 0.00548275]\n",
      " [0.04187123 0.03500739 0.02414538 0.00153282]\n",
      " [0.01728923 0.04052304 0.01972229 0.01239451]\n",
      " [0.03249374 0.01142471 0.02735552 0.02333939]\n",
      " [0.02908345 0.04360147 0.05286035 0.03602468]\n",
      " [0.05508209 0.02640544 0.01356077 0.02571697]\n",
      " [0.04557915 0.00493369 0.01851341 0.01161498]\n",
      " [0.01324223 0.0291349  0.01702178 0.01502231]\n",
      " [0.05605483 0.0180233  0.01234979 0.01614195]]\n",
      "[[0.02979809 0.00142607 0.02034206 0.00853182]\n",
      " [0.10928951 0.05679672 0.01580084 0.01527578]\n",
      " [0.02957127 0.04211769 0.03055489 0.02389056]\n",
      " [0.02299914 0.02049039 0.02129058 0.01770225]\n",
      " [0.10768209 0.01937477 0.04517776 0.019989  ]\n",
      " [0.04512574 0.00906195 0.01128996 0.02287863]\n",
      " [0.04661566 0.02505858 0.02431953 0.01781209]\n",
      " [0.03686391 0.05065969 0.04771001 0.05067041]\n",
      " [0.08231371 0.06311463 0.03479443 0.03771595]\n",
      " [0.00514329 0.00764979 0.00968274 0.00165764]]\n"
     ]
    }
   ],
   "source": [
    "paths_to_read_from = ['/experiments_estimation_error_rebuttal/2states_20actions_5obs__20_100']\n",
    "bandit_num = 10\n",
    "\n",
    "hmm_errors = np.empty((bandit_num, 4))\n",
    "obs_errors = np.empty((bandit_num, 4))\n",
    "our_errors = np.empty((bandit_num, 4))\n",
    "our_errors_2arms = np.empty((bandit_num, 4))\n",
    "\n",
    "for i, path in enumerate(paths_to_read_from):\n",
    "\n",
    "    curr_path = os.getcwd() + path\n",
    "    for bandit in range(bandit_num):\n",
    "        # Opening HMM files\n",
    "        f = open(curr_path + f'/bandit{bandit}/exp_hmm_1/exp_info.json')\n",
    "        # returns JSON object as\n",
    "        # a dictionary\n",
    "        data = json.load(f)\n",
    "\n",
    "        num_samples_hmm = []\n",
    "        obs_errors_hmm = []\n",
    "        count = 0\n",
    "        for exp in data:\n",
    "            num_samples_hmm.append(exp['num_samples'])\n",
    "            hmm_errors[bandit, count] = exp['norm_1_t_error']\n",
    "            obs_errors[bandit, count] = exp['hmm_o_error']\n",
    "            count += 1\n",
    "        f.close()\n",
    "\n",
    "        # Opening SR-EC files\n",
    "        f = open(curr_path + f'/bandit{bandit}/exp2/exp_our_info.json')\n",
    "        data = json.load(f)\n",
    "        our_errors[bandit, :] = data['estimation_errors']\n",
    "        f.close()\n",
    "\n",
    "        # Opening SR-EC files\n",
    "        f = open(curr_path + f'/bandit{bandit}/exp3/exp_our_info.json')\n",
    "        data = json.load(f)\n",
    "        our_errors_2arms[bandit, :] = data['estimation_errors']\n",
    "        f.close()\n",
    "\n",
    "print(hmm_errors)\n",
    "#print(obs_errors)\n",
    "print(our_errors)\n",
    "print(our_errors_2arms)"
   ],
   "metadata": {
    "collapsed": false
   }
  },
  {
   "cell_type": "code",
   "execution_count": 21,
   "outputs": [
    {
     "name": "stdout",
     "output_type": "stream",
     "text": [
      "Hmm mean error [0.05831695 0.03130125 0.0263078  0.01832211] +- [0.0280585  0.01620512 0.0057009  0.01290586]\n",
      "Our mean error [0.04641646 0.02651251 0.02108846 0.01569287] +- [0.0243766  0.01423407 0.01220826 0.00970393]\n",
      "Our mean error [0.05154024 0.02957503 0.02609628 0.02161241] +- [0.0341135  0.02090131 0.01257292 0.01323744]\n"
     ]
    }
   ],
   "source": [
    "hmm_mean_error = hmm_errors.mean(axis=0)\n",
    "hmm_std_error = hmm_errors.std(axis=0)\n",
    "\n",
    "our_mean_error = our_errors.mean(axis=0)\n",
    "our_std_error = our_errors.std(axis=0)\n",
    "\n",
    "our_2arms_mean_error = our_errors_2arms.mean(axis=0)\n",
    "our_2arms_std_error = our_errors_2arms.std(axis=0)\n",
    "\n",
    "print(f\"Hmm mean error {hmm_mean_error} +- {hmm_std_error}\")\n",
    "print(f\"Our mean error {our_mean_error} +- {our_std_error}\")\n",
    "print(f\"Our mean error {our_2arms_mean_error} +- {our_2arms_std_error}\")"
   ],
   "metadata": {
    "collapsed": false
   }
  },
  {
   "cell_type": "code",
   "execution_count": null,
   "outputs": [],
   "source": [
    "high = {}\n",
    "low = {}\n",
    "attribute = 'EpRewMean'\n",
    "n_runs = 20\n",
    "\n",
    "for env in envs:\n",
    "  for iw_method in iw_methods:\n",
    "    low[env,iw_method], high[env,iw_method] = ci(reduced_data[env,iw_method][attribute].iloc[:,0], reduced_data[env,iw_method][attribute].iloc[:,1], n_runs)"
   ],
   "metadata": {
    "collapsed": false
   }
  },
  {
   "cell_type": "code",
   "execution_count": null,
   "outputs": [],
   "source": [
    "# Fixing random state for reproducibility\n",
    "np.random.seed(19680801)\n",
    "\n",
    "x = np.random.rand(10)\n",
    "y = np.random.rand(10)\n",
    "z = np.sqrt(x**2 + y**2)\n",
    "\n",
    "fig, axs = plt.subplots(2, 3, sharex=True, sharey=True)\n",
    "\n",
    "# marker symbol\n",
    "axs[0, 0].scatter(x, y, s=80, c=z, marker=\">\")\n",
    "axs[0, 0].set_title(\"marker='>'\")\n",
    "\n",
    "# marker from TeX\n",
    "axs[0, 1].scatter(x, y, s=80, c=z, marker=r'$\\alpha$')\n",
    "axs[0, 1].set_title(r\"marker=r'\\$\\alpha\\$'\")\n",
    "\n",
    "# marker from path\n",
    "verts = [[-1, -1], [1, -1], [1, 1], [-1, -1]]\n",
    "axs[0, 2].scatter(x, y, s=80, c=z, marker=verts)\n",
    "axs[0, 2].set_title(\"marker=verts\")\n",
    "\n",
    "# regular polygon marker\n",
    "axs[1, 0].scatter(x, y, s=80, c=z, marker=(5, 0))\n",
    "axs[1, 0].set_title(\"marker=(5, 0)\")\n",
    "\n",
    "# regular star marker\n",
    "axs[1, 1].scatter(x, y, s=80, c=z, marker=(5, 1))\n",
    "axs[1, 1].set_title(\"marker=(5, 1)\")\n",
    "\n",
    "# regular asterisk marker\n",
    "axs[1, 2].scatter(x, y, s=80, c=z, marker=(5, 2))\n",
    "axs[1, 2].set_title(\"marker=(5, 2)\")\n",
    "\n",
    "plt.tight_layout()\n",
    "plt.show()"
   ],
   "metadata": {
    "collapsed": false
   }
  },
  {
   "cell_type": "code",
   "execution_count": 39,
   "outputs": [],
   "source": [
    "def ci(_mean, _std, n, conf=0.95):\n",
    "  _adj_std = _std / np.sqrt(n)\n",
    "  _low, _high = t.interval(conf, n-1, loc=_mean, scale=_adj_std)\n",
    "  return _low, _high\n",
    "\n",
    "def ci2(mean, std, n, conf=0.025):\n",
    "    # Calculate the t-value\n",
    "    t_value = t.ppf(1 - conf, n - 1)\n",
    "\n",
    "    # Calculate the margin of error\n",
    "    margin_error = t_value * std / math.sqrt(n)\n",
    "\n",
    "    # Calculate the lower and upper bounds of the confidence interval\n",
    "    lower_bound = mean - margin_error\n",
    "    upper_bound = mean + margin_error\n",
    "    return lower_bound, upper_bound"
   ],
   "metadata": {
    "collapsed": false
   }
  },
  {
   "cell_type": "code",
   "execution_count": 49,
   "outputs": [
    {
     "name": "stdout",
     "output_type": "stream",
     "text": [
      "(10000,)\n",
      "20\n",
      "(20, 10000)\n",
      "[-0.14009741 -0.13936764 -0.04045558 ... -0.2489268   0.15630704\n",
      " -0.05065748]\n",
      "Epsilon greedy regret 131.1125\n",
      "Exp3S regret 1014.8875\n",
      "Our policy regret 2393.7375\n",
      "(10000,)\n",
      "20\n",
      "(20, 10000)\n",
      "[ 0.28852144  0.29590043  0.08210689 ...  0.35890805 -0.13560681\n",
      "  0.43658454]\n",
      "Epsilon greedy regret 228.725\n",
      "Exp3S regret 1229.7999999999997\n",
      "Our policy regret 3742.7\n",
      "(10000,)\n",
      "20\n",
      "(20, 10000)\n",
      "[ 0.18716553  0.254722    0.40198855 ... -0.28935464 -0.19113417\n",
      " -0.20925525]\n",
      "Epsilon greedy regret 149.4375\n",
      "Exp3S regret 888.425\n",
      "Our policy regret 1617.7625\n"
     ]
    },
    {
     "data": {
      "text/plain": "<Figure size 1440x432 with 3 Axes>",
      "image/png": "[encoded data removed]"
     },
     "metadata": {
      "needs_background": "light"
     },
     "output_type": "display_data"
    }
   ],
   "source": [
    "paths_to_read_from = ['experiments/3states_4actions_5obs/bandit3/exp0', 'experiments/3states_4actions_5obs/bandit4/exp0',\n",
    "                      'experiments/3states_4actions_5obs/bandit5/exp0']\n",
    "\n",
    "fig, axs = plt.subplots(1, 3, figsize=(20, 6))  #, sharex=True, sharey=True)\n",
    "\n",
    "exp_data = []\n",
    "for i, path in enumerate(paths_to_read_from):\n",
    "    # Opening JSON file\n",
    "    f = open(path + '/exp_info.json')\n",
    "    # returns JSON object as\n",
    "    # a dictionary\n",
    "    data = json.load(f)\n",
    "    oracle_list = np.array(data['rewards']['oracle'])\n",
    "    # sliding_w_UCB_list = np.array(data['rewards']['sliding_w_UCB'])\n",
    "    epsilon_greedy_list = np.array(data['rewards']['epsilon_greedy'])\n",
    "    exp3S_list = np.array(data['rewards']['exp3S'])\n",
    "    our_policy_list = np.array(data['rewards']['our_policy'])\n",
    "\n",
    "\n",
    "    oracle_rewards = oracle_list[:, :, 1]\n",
    "    x_axis = [i for i in range(oracle_rewards.shape[1])]\n",
    "\n",
    "\n",
    "    # sliding_w_UCB_regret = np.mean(oracle_rewards - sliding_w_UCB_list[:, :, 1], axis=0)\n",
    "    epsilon_greedy_regret = np.mean(oracle_rewards - epsilon_greedy_list[:, :, 1], axis=0)\n",
    "    exp3S_regret = np.mean(oracle_rewards - exp3S_list[:, :, 1], axis=0)\n",
    "\n",
    "\n",
    "    our_policy_regret = np.mean(oracle_rewards - our_policy_list[:, :, 1], axis=0)\n",
    "    our_policy_regret_std = np.std(oracle_rewards - our_policy_list[:, :, 1], axis=0, ddof=1)\n",
    "\n",
    "    cum_policy_regret = np.cumsum(oracle_rewards - our_policy_list[:, :, 1], axis=1)\n",
    "    mean_cum_policy_regret = np.mean(cum_policy_regret, axis=0)\n",
    "    std_cum_policy_regret = np.std(cum_policy_regret, axis=0)\n",
    "\n",
    "    cusum_our_policy_regret = np.cumsum(our_policy_regret)\n",
    "    cusum_our_policy_regret_std = np.std(cusum_our_policy_regret, ddof=1)\n",
    "\n",
    "\n",
    "    # our_policy_low, our_policy_high = ci(our_policy_regret, our_policy_regret_std, our_policy_list.shape[0])\n",
    "    our_policy_low, our_policy_high = ci2(our_policy_regret, our_policy_regret_std, our_policy_list.shape[0])\n",
    "    #lower_bound, upper_bound = ci2(cusum_our_policy_regret, cusum_our_policy_regret_std, our_policy_list.shape[0])\n",
    "    #print(our_policy_regret_std.shape)\n",
    "    print(our_policy_regret.shape)\n",
    "    print(our_policy_list.shape[0])\n",
    "    print(oracle_rewards.shape)\n",
    "    print(our_policy_low)\n",
    "\n",
    "\n",
    "\n",
    "    #print(f\"sliding_w_UCB regret {sliding_w_UCB_regret.sum()}\")\n",
    "    #axs[i].plot(np.cumsum(sliding_w_UCB_regret), 'c')\n",
    "\n",
    "    print(f\"Epsilon greedy regret {epsilon_greedy_regret.sum()}\")\n",
    "    #axs[i].plot(np.cumsum(epsilon_greedy_regret), 'b')\n",
    "\n",
    "    print(f\"Exp3S regret {exp3S_regret.sum()}\")\n",
    "    #axs[i].plot(np.cumsum(exp3S_regret), 'g')\n",
    "\n",
    "    print(f\"Our policy regret {our_policy_regret.sum()}\")\n",
    "    #for row in range(oracle_rewards.shape[0]):\n",
    "    axs[i].plot(np.cumsum(oracle_rewards - our_policy_list[:, :, 1]), 'r')\n",
    "    axs[i].fill_between(x_axis, np.cumsum(our_policy_low), np.cumsum(our_policy_high), alpha=0.2)\n",
    "\n",
    "    axs[i].set_title(f\"{i}-th exp\")\n",
    "\n",
    "plt.tight_layout()\n",
    "plt.show()"
   ],
   "metadata": {
    "collapsed": false
   }
  }
 ],
 "metadata": {
  "kernelspec": {
   "display_name": "Python 3",
   "language": "python",
   "name": "python3"
  },
  "language_info": {
   "codemirror_mode": {
    "name": "ipython",
    "version": 2
   },
   "file_extension": ".py",
   "mimetype": "text/x-python",
   "name": "python",
   "nbconvert_exporter": "python",
   "pygments_lexer": "ipython2",
   "version": "2.7.6"
  }
 },
 "nbformat": 4,
 "nbformat_minor": 0
}
