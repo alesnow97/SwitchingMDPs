{
 "cells": [
  {
   "cell_type": "code",
   "outputs": [],
   "source": [
    "import numpy as np"
   ],
   "metadata": {
    "collapsed": false,
    "ExecuteTime": {
     "end_time": "2024-03-26T22:31:57.116143Z",
     "start_time": "2024-03-26T22:31:56.958457Z"
    }
   },
   "id": "b8e2016745e0f188",
   "execution_count": 2
  },
  {
   "cell_type": "code",
   "execution_count": 7,
   "id": "initial_id",
   "metadata": {
    "collapsed": true,
    "ExecuteTime": {
     "end_time": "2024-03-26T22:33:53.745242Z",
     "start_time": "2024-03-26T22:33:53.740765Z"
    }
   },
   "outputs": [
    {
     "name": "stdout",
     "output_type": "stream",
     "text": [
      "[[0.05 0.05 0.85 0.05]\n",
      " [0.05 0.05 0.85 0.05]\n",
      " [0.05 0.05 0.85 0.05]\n",
      " [0.05 0.05 0.85 0.05]]\n",
      "(4, 4)\n"
     ]
    }
   ],
   "source": [
    "belief = np.array([0.207078, 0.108909, 0.017499, 0.000988])\n",
    "\n",
    "transition_matrix = np.array([0.05, 0.05, 0.85, 0.05])\n",
    "for i in range(3):\n",
    "    transition_matrix = np.vstack([transition_matrix, np.array([0.05, 0.05, 0.85, 0.05])])\n",
    "    \n",
    "print(transition_matrix)\n",
    "print(transition_matrix.shape)"
   ]
  },
  {
   "cell_type": "code",
   "outputs": [
    {
     "name": "stdout",
     "output_type": "stream",
     "text": [
      "[0.0307229 0.0307229 0.0307229 0.0307229]\n",
      "[[0.0307229 0.0307229 0.0307229 0.0307229]]\n"
     ]
    }
   ],
   "source": [
    "transitioned_belief = belief @ transition_matrix.T\n",
    "transitioned_belief_2 = np.matmul(belief.reshape(1, -1), transition_matrix.T)\n",
    "print(transitioned_belief)\n",
    "print(transitioned_belief_2)"
   ],
   "metadata": {
    "collapsed": false,
    "ExecuteTime": {
     "end_time": "2024-03-26T22:33:54.621999Z",
     "start_time": "2024-03-26T22:33:54.617455Z"
    }
   },
   "id": "67dc8520d266673d",
   "execution_count": 8
  },
  {
   "cell_type": "code",
   "outputs": [
    {
     "data": {
      "text/plain": "0.0167237"
     },
     "execution_count": 9,
     "metadata": {},
     "output_type": "execute_result"
    }
   ],
   "source": [
    "belief.sum() * 0.05"
   ],
   "metadata": {
    "collapsed": false,
    "ExecuteTime": {
     "end_time": "2024-03-26T22:35:02.802191Z",
     "start_time": "2024-03-26T22:35:02.791875Z"
    }
   },
   "id": "70263f47e25644e8",
   "execution_count": 9
  }
 ],
 "metadata": {
  "kernelspec": {
   "display_name": "Python 3",
   "language": "python",
   "name": "python3"
  },
  "language_info": {
   "codemirror_mode": {
    "name": "ipython",
    "version": 2
   },
   "file_extension": ".py",
   "mimetype": "text/x-python",
   "name": "python",
   "nbconvert_exporter": "python",
   "pygments_lexer": "ipython2",
   "version": "2.7.6"
  }
 },
 "nbformat": 4,
 "nbformat_minor": 5
}
