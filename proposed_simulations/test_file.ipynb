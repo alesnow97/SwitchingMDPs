{
 "cells": [
  {
   "cell_type": "code",
   "execution_count": 3,
   "outputs": [],
   "source": [
    "import numpy as np"
   ],
   "metadata": {
    "collapsed": false,
    "ExecuteTime": {
     "start_time": "2023-04-17T14:11:21.096341Z",
     "end_time": "2023-04-17T14:11:21.103266Z"
    }
   }
  },
  {
   "cell_type": "code",
   "execution_count": 5,
   "outputs": [],
   "source": [
    "def generate_transition_matrix(num_st, transition_multiplier):\n",
    "    # by setting specific design we give more probability to self-loops\n",
    "    diag_matrix = np.eye(num_st) * transition_multiplier\n",
    "    markov_chain = np.random.random_integers(\n",
    "        low=1, high=15, size=(num_st, num_st))\n",
    "    markov_chain = markov_chain + diag_matrix\n",
    "    transition_matrix = markov_chain / markov_chain.sum(axis=1)[:, None]\n",
    "    return transition_matrix\n",
    "\n",
    "def generate_state_action_reward_dist(num_st, num_ac, num_ob, observation_multiplier):\n",
    "    state_action_reward_matrix = np.empty(\n",
    "        shape=(num_st, num_ac, num_ob))\n",
    "    perturbation_matrix = np.zeros(shape=(num_ac, num_ob))\n",
    "\n",
    "    if num_ac >= num_ob:\n",
    "        for i in range(int(num_ac / num_ob)):\n",
    "            perturbation_matrix[num_ob*i:num_ob*(i+1), :] = observation_multiplier * np.eye(num_ob)\n",
    "    else:\n",
    "        for i in range(int(num_ob / num_ac)):\n",
    "            perturbation_matrix[:, num_ac*i:num_ac*(i+1)] = observation_multiplier * np.eye(num_ac)\n",
    "\n",
    "    for state in range(num_st):\n",
    "        action_reward = np.random.random((num_ac, num_ob))\n",
    "        if num_ac >= num_ob:\n",
    "            permutation = np.random.permutation(num_ac)\n",
    "            permuted_matrix = perturbation_matrix[permutation, :]\n",
    "        else:\n",
    "            permutation = np.random.permutation(num_ob)\n",
    "            permuted_matrix = perturbation_matrix[:, permutation]\n",
    "\n",
    "        action_reward += permuted_matrix\n",
    "        action_reward = action_reward / action_reward.sum(axis=1)[:, None]\n",
    "        state_action_reward_matrix[state] = action_reward\n",
    "\n",
    "        #for action in range(num_ac):\n",
    "        #    categorical = np.random.random(size=num_ob)\n",
    "        #    categorical = categorical / categorical.sum()\n",
    "        #    state_action_reward_matrix[state, action, :] = \\\n",
    "        #        np.array(categorical)\n",
    "    return state_action_reward_matrix\n",
    "\n",
    "def generate_reference_matrix(state_action_reward_matrix, num_st, num_ac, num_ob):\n",
    "    reference_matrix = np.empty(\n",
    "        shape=(num_ac ** 2 * num_ob ** 2,\n",
    "               num_st ** 2))\n",
    "\n",
    "    for starting_state in range(num_st):\n",
    "        for arriving_state in range(num_st):\n",
    "            # print(f\"From state {starting_state} to {arriving_state}\")\n",
    "            column = starting_state * num_st + arriving_state\n",
    "            for first_action in range(num_ac):\n",
    "                for second_action in range(num_ac):\n",
    "                    starting_row = first_action * num_ac * num_ob ** 2 + second_action * num_ob ** 2\n",
    "                    ending_row = starting_row + num_ob ** 2\n",
    "                    first_obs_prob = state_action_reward_matrix[starting_state, first_action]\n",
    "                    second_obs_prob = state_action_reward_matrix[arriving_state, second_action]\n",
    "                    obs_probabilities = np.outer(first_obs_prob, second_obs_prob).reshape(-1)\n",
    "                    reference_matrix[starting_row:ending_row, column] = obs_probabilities\n",
    "                    # print(obs_probabilities)\n",
    "    return reference_matrix"
   ],
   "metadata": {
    "collapsed": false,
    "ExecuteTime": {
     "start_time": "2023-04-17T14:15:15.073553Z",
     "end_time": "2023-04-17T14:15:15.079276Z"
    }
   }
  },
  {
   "cell_type": "code",
   "execution_count": null,
   "outputs": [],
   "source": [],
   "metadata": {
    "collapsed": false
   }
  },
  {
   "cell_type": "code",
   "execution_count": 6,
   "outputs": [],
   "source": [
    "num_states = 5\n",
    "num_actions = 10\n",
    "num_obs = 5\n",
    "trans_multiplier = 20\n",
    "obs_multiplier = 10"
   ],
   "metadata": {
    "collapsed": false,
    "ExecuteTime": {
     "start_time": "2023-04-17T14:18:20.333139Z",
     "end_time": "2023-04-17T14:18:20.340344Z"
    }
   }
  },
  {
   "cell_type": "code",
   "execution_count": 7,
   "outputs": [
    {
     "name": "stderr",
     "output_type": "stream",
     "text": [
      "/tmp/ipykernel_956571/1024725291.py:4: DeprecationWarning: This function is deprecated. Please call randint(1, 15 + 1) instead\n",
      "  markov_chain = np.random.random_integers(\n"
     ]
    }
   ],
   "source": [
    "trans_matrix = generate_transition_matrix(num_st=num_states, transition_multiplier=trans_multiplier)\n",
    "observation_matrix = generate_state_action_reward_dist(num_st=num_states, num_ac=num_actions, num_ob=num_obs, observation_multiplier=obs_multiplier)\n",
    "ref_matrix = generate_reference_matrix(observation_matrix, num_st=num_states, num_ob=num_obs, num_ac=num_actions)"
   ],
   "metadata": {
    "collapsed": false,
    "ExecuteTime": {
     "start_time": "2023-04-17T14:18:26.725909Z",
     "end_time": "2023-04-17T14:18:26.772257Z"
    }
   }
  },
  {
   "cell_type": "code",
   "execution_count": 14,
   "outputs": [],
   "source": [
    "O = np.empty((num_obs*num_actions, num_states))\n",
    "for state in range(num_states):\n",
    "    curr_state_ac_obs = observation_matrix[state, :, :].reshape(-1)\n",
    "    O[:, state] = curr_state_ac_obs"
   ],
   "metadata": {
    "collapsed": false,
    "ExecuteTime": {
     "start_time": "2023-04-17T14:36:45.916520Z",
     "end_time": "2023-04-17T14:36:45.923282Z"
    }
   }
  },
  {
   "cell_type": "code",
   "execution_count": 16,
   "outputs": [
    {
     "name": "stdout",
     "output_type": "stream",
     "text": [
      "Min singular 1.5539760639142857 \t Rank 5\n",
      "Min singular 1.0537996294624188 \t Rank 5\n",
      "Min singular 2.414841607218538 \t\t Rank 25\n"
     ]
    }
   ],
   "source": [
    "u, s, vh = np.linalg.svd(O, full_matrices=True)\n",
    "# print(s)\n",
    "print(f\"Min singular {s.min()} \\t Rank {len(s)}\")\n",
    "u, s, vh = np.linalg.svd(ref_matrix, full_matrices=True)\n",
    "# print(s)\n",
    "print(f\"Min singular {s.min()} \\t\\t Rank {len(s)}\")"
   ],
   "metadata": {
    "collapsed": false,
    "ExecuteTime": {
     "start_time": "2023-04-17T14:37:34.339545Z",
     "end_time": "2023-04-17T14:37:34.677709Z"
    }
   }
  },
  {
   "cell_type": "code",
   "execution_count": 13,
   "outputs": [
    {
     "name": "stdout",
     "output_type": "stream",
     "text": [
      "(5, 10, 5)\n"
     ]
    }
   ],
   "source": [
    "print(observation_matrix.shape)"
   ],
   "metadata": {
    "collapsed": false,
    "ExecuteTime": {
     "start_time": "2023-04-17T14:35:30.258025Z",
     "end_time": "2023-04-17T14:35:30.266913Z"
    }
   }
  },
  {
   "cell_type": "code",
   "execution_count": null,
   "outputs": [],
   "source": [],
   "metadata": {
    "collapsed": false
   }
  }
 ],
 "metadata": {
  "kernelspec": {
   "display_name": "Python 3",
   "language": "python",
   "name": "python3"
  },
  "language_info": {
   "codemirror_mode": {
    "name": "ipython",
    "version": 2
   },
   "file_extension": ".py",
   "mimetype": "text/x-python",
   "name": "python",
   "nbconvert_exporter": "python",
   "pygments_lexer": "ipython2",
   "version": "2.7.6"
  }
 },
 "nbformat": 4,
 "nbformat_minor": 0
}
